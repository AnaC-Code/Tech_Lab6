{
 "cells": [
  {
   "cell_type": "markdown",
   "id": "cd6dcb8b",
   "metadata": {},
   "source": [
    "# Sales Prediction using Linear Regression"
   ]
  },
  {
   "cell_type": "markdown",
   "id": "39f38208",
   "metadata": {},
   "source": [
    "This notebook demonstrates how to predict sales using a linear regression model based on features extracted from a dataset."
   ]
  },
  {
   "cell_type": "markdown",
   "id": "78275382",
   "metadata": {},
   "source": [
    "## 1. Import Libraries"
   ]
  },
  {
   "cell_type": "code",
   "execution_count": 37,
   "id": "e8400671",
   "metadata": {},
   "outputs": [],
   "source": [
    "import pandas as pd\n",
    "from sklearn.model_selection import train_test_split\n",
    "from sklearn.linear_model import LinearRegression\n",
    "from sklearn.preprocessing import OneHotEncoder\n",
    "from sklearn.compose import ColumnTransformer\n",
    "from sklearn.pipeline import Pipeline\n",
    "from sklearn.metrics import mean_squared_error, mean_absolute_error, r2_score"
   ]
  },
  {
   "cell_type": "markdown",
   "id": "e1ba78ad",
   "metadata": {},
   "source": [
    "## 2. Load the Dataset"
   ]
  },
  {
   "cell_type": "code",
   "execution_count": 38,
   "id": "928411e7",
   "metadata": {},
   "outputs": [
    {
     "name": "stdout",
     "output_type": "stream",
     "text": [
      "Mean Squared Error (MSE): 777419.73\n",
      "Mean Absolute Error (MAE): 393.36\n",
      "R-squared (R²): 0.06\n"
     ]
    }
   ],
   "source": [
    "file_path = 'Source/Sales.csv'\n",
    "df = pd.read_csv(file_path, encoding='ISO-8859-1')\n",
    "df.head()\n",
    "\n",
    "df['Ship_Date'] = pd.to_datetime(df['Ship_Date'], errors='coerce')\n",
    "df['Ship_Year'] = df['Ship_Date'].dt.year\n",
    "df['Ship_Month'] = df['Ship_Date'].dt.month\n",
    "df['Ship_Day'] = df['Ship_Date'].dt.day\n",
    "df['Ship_Weekday'] = df['Ship_Date'].dt.weekday\n",
    "df = df.drop(columns=['Ship_Date'])\n",
    "df.dropna(inplace=True)\n",
    "df.head()\n",
    "\n",
    "features = ['Ship_Year', 'Ship_Month', 'Ship_Day', 'Ship_Weekday', 'Ship_Mode', 'Customer_ID', 'Segment', 'City', 'State', 'Region', 'Postal_Code', 'Product_ID', 'Category', 'Sub_Category']\n",
    "target = 'Sales'\n",
    "X = df[features]\n",
    "y = df[target]\n",
    "X_train, X_test, y_train, y_test = train_test_split(X, y, test_size=0.2, random_state=42)\n",
    "\n",
    "categorical_features = ['Ship_Mode', 'Customer_ID', 'Segment', 'City', 'State', 'Region', 'Postal_Code', 'Product_ID', 'Category', 'Sub_Category']\n",
    "numerical_features = ['Ship_Year', 'Ship_Month', 'Ship_Day', 'Ship_Weekday']\n",
    "\n",
    "categorical_transformer = OneHotEncoder(handle_unknown='ignore')\n",
    "\n",
    "preprocessor = ColumnTransformer(\n",
    "    transformers=[\n",
    "        ('cat', categorical_transformer, categorical_features)\n",
    "    ],\n",
    "    remainder='passthrough'\n",
    ")\n",
    "\n",
    "model = Pipeline(steps=[('preprocessor', preprocessor),\n",
    "                        ('regressor', LinearRegression())])\n",
    "\n",
    "model.fit(X_train, y_train)\n",
    "\n",
    "y_pred = model.predict(X_test)\n",
    "mse = mean_squared_error(y_test, y_pred)\n",
    "mae = mean_absolute_error(y_test, y_pred)\n",
    "r2 = r2_score(y_test, y_pred)\n",
    "\n",
    "print(f\"Mean Squared Error (MSE): {mse:.2f}\")\n",
    "print(f\"Mean Absolute Error (MAE): {mae:.2f}\")\n",
    "print(f\"R-squared (R²): {r2:.2f}\")"
   ]
  },
  {
   "cell_type": "code",
   "execution_count": 39,
   "id": "fc47840e",
   "metadata": {},
   "outputs": [
    {
     "name": "stdout",
     "output_type": "stream",
     "text": [
      "Mean Squared Error (MSE): 115357.42\n",
      "Mean Absolute Error (MAE): 136.38\n",
      "R-squared (R²): 0.34\n"
     ]
    }
   ],
   "source": [
    "\n",
    "file_path = 'Source/Enriched_Clean_Data.csv'\n",
    "df = pd.read_csv(file_path, sep=';', thousands='.')\n",
    "\n",
    "# Ensure that 'Sales' column is numeric\n",
    "df['Sales'] = pd.to_numeric(df['Sales'], errors='coerce')\n",
    "\n",
    "# Drop rows with NaN values in 'Sales' column if any\n",
    "df = df.dropna(subset=['Sales'])\n",
    "\n",
    "df = df.drop(columns=['Ship_Date','Order_Date'])\n",
    "df.dropna(inplace=True)\n",
    "\n",
    "features = ['Region', 'Product_ID', 'Category', 'Sub_Category', 'Product_Name',\n",
    "        'shipping_costs', 'number_of_products_in_warehouse',\n",
    "       'production_costs_per_unit']\n",
    "target = 'Sales'\n",
    "X = df[features]\n",
    "y = df[target]\n",
    "X_train, X_test, y_train, y_test = train_test_split(X, y, test_size=0.2, random_state=42)\n",
    "\n",
    "categorical_features = ['Region', 'Product_ID', 'Category', 'Sub_Category', 'Product_Name']\n",
    "numerical_features = ['shipping_costs', 'number_of_products_in_warehouse', 'production_costs_per_unit']\n",
    "\n",
    "categorical_transformer = OneHotEncoder(handle_unknown='ignore')\n",
    "\n",
    "preprocessor = ColumnTransformer(\n",
    "    transformers=[\n",
    "        ('cat', categorical_transformer, categorical_features)\n",
    "    ],\n",
    "    remainder='passthrough'\n",
    ")\n",
    "\n",
    "model = Pipeline(steps=[('preprocessor', preprocessor),\n",
    "                        ('regressor', LinearRegression())])\n",
    "\n",
    "model.fit(X_train, y_train)\n",
    "\n",
    "y_pred = model.predict(X_test)\n",
    "mse = mean_squared_error(y_test, y_pred)\n",
    "mae = mean_absolute_error(y_test, y_pred)\n",
    "r2 = r2_score(y_test, y_pred)\n",
    "\n",
    "print(f\"Mean Squared Error (MSE): {mse:.2f}\")\n",
    "print(f\"Mean Absolute Error (MAE): {mae:.2f}\")\n",
    "print(f\"R-squared (R²): {r2:.2f}\")"
   ]
  }
 ],
 "metadata": {
  "kernelspec": {
   "display_name": "Python 3",
   "language": "python",
   "name": "python3"
  },
  "language_info": {
   "codemirror_mode": {
    "name": "ipython",
    "version": 3
   },
   "file_extension": ".py",
   "mimetype": "text/x-python",
   "name": "python",
   "nbconvert_exporter": "python",
   "pygments_lexer": "ipython3",
   "version": "3.12.3"
  }
 },
 "nbformat": 4,
 "nbformat_minor": 5
}
