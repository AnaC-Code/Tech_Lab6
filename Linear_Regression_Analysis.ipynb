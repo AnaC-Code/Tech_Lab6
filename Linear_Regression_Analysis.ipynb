{
 "cells": [
  {
   "cell_type": "markdown",
   "id": "079f170a",
   "metadata": {},
   "source": [
    "# Linear Regression Analysis"
   ]
  },
  {
   "cell_type": "code",
   "execution_count": null,
   "id": "2cb0d928",
   "metadata": {},
   "outputs": [],
   "source": [
    "import pandas as pd\n",
    "from sklearn.model_selection import train_test_split\n",
    "from sklearn.linear_model import LinearRegression\n",
    "from sklearn.metrics import r2_score, mean_squared_error, mean_absolute_error\n",
    "\n",
    "# Load the dataset\n",
    "data = pd.read_csv('/mnt/data/Enriched_Clean_Data.csv', delimiter=';', thousands='.')\n",
    "\n",
    "# Drop rows with missing values\n",
    "data_cleaned = data.dropna()\n",
    "\n",
    "# Remove rows with non-numeric values in the 'Sales' column\n",
    "data_cleaned = data_cleaned[pd.to_numeric(data_cleaned['Sales'], errors='coerce').notnull()]\n",
    "\n",
    "# Convert the 'Sales' column to float\n",
    "data_cleaned['Sales'] = data_cleaned['Sales'].str.replace('.', '', regex=False).astype(float)\n",
    "\n",
    "# Reassign the cleaned data to X and y\n",
    "X = data_cleaned[['shipping_costs', 'number_of_products_in_warehouse', 'production_costs_per_unit']]\n",
    "y = data_cleaned['Sales']\n",
    "\n",
    "# Split the cleaned data into training and testing sets\n",
    "X_train, X_test, y_train, y_test = train_test_split(X, y, test_size=0.3, random_state=42)\n",
    "\n",
    "# Create and train the linear regression model\n",
    "model = LinearRegression()\n",
    "model.fit(X_train, y_train)\n",
    "\n",
    "# Make predictions on the test set\n",
    "y_pred = model.predict(X_test)\n",
    "\n",
    "# Calculate R-squared, Mean Squared Error, and Mean Absolute Error\n",
    "r2 = r2_score(y_test, y_pred)\n",
    "mse = mean_squared_error(y_test, y_pred)\n",
    "mae = mean_absolute_error(y_test, y_pred)\n",
    "\n",
    "r2, mse, mae"
   ]
  }
 ],
 "metadata": {},
 "nbformat": 4,
 "nbformat_minor": 5
}
