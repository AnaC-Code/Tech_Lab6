{
 "cells": [
  {
   "cell_type": "markdown",
   "id": "cd6dcb8b",
   "metadata": {},
   "source": [
    "# Sales Prediction using Linear Regression"
   ]
  },
  {
   "cell_type": "markdown",
   "id": "39f38208",
   "metadata": {},
   "source": [
    "This notebook demonstrates how to predict sales using a linear regression model based on features extracted from a dataset."
   ]
  },
  {
   "cell_type": "markdown",
   "id": "78275382",
   "metadata": {},
   "source": [
    "## 1. Import Libraries"
   ]
  },
  {
   "cell_type": "code",
   "execution_count": null,
   "id": "e8400671",
   "metadata": {},
   "outputs": [],
   "source": [
    "import pandas as pd\n",
    "from sklearn.model_selection import train_test_split\n",
    "from sklearn.linear_model import LinearRegression\n",
    "from sklearn.preprocessing import OneHotEncoder\n",
    "from sklearn.compose import ColumnTransformer\n",
    "from sklearn.pipeline import Pipeline\n",
    "from sklearn.metrics import mean_squared_error, mean_absolute_error, r2_score"
   ]
  },
  {
   "cell_type": "markdown",
   "id": "e1ba78ad",
   "metadata": {},
   "source": [
    "## 2. Load the Dataset"
   ]
  },
  {
   "cell_type": "code",
   "execution_count": null,
   "id": "928411e7",
   "metadata": {},
   "outputs": [],
   "source": [
    "file_path = 'Source/Sales.csv'\n",
    "df = pd.read_csv(file_path, encoding='ISO-8859-1')\n",
    "df.head()"
   ]
  },
  {
   "cell_type": "markdown",
   "id": "8fb52e37",
   "metadata": {},
   "source": [
    "## 3. Preprocess the Data"
   ]
  },
  {
   "cell_type": "code",
   "execution_count": null,
   "id": "f256abc9",
   "metadata": {},
   "outputs": [],
   "source": [
    "df['Ship_Date'] = pd.to_datetime(df['Ship_Date'], errors='coerce')\n",
    "df['Ship_Year'] = df['Ship_Date'].dt.year\n",
    "df['Ship_Month'] = df['Ship_Date'].dt.month\n",
    "df['Ship_Day'] = df['Ship_Date'].dt.day\n",
    "df['Ship_Weekday'] = df['Ship_Date'].dt.weekday\n",
    "df = df.drop(columns=['Ship_Date'])\n",
    "df.head()"
   ]
  },
  {
   "cell_type": "markdown",
   "id": "0156e15a",
   "metadata": {},
   "source": [
    "## 4. Define Features and Target"
   ]
  },
  {
   "cell_type": "code",
   "execution_count": null,
   "id": "f2d797a2",
   "metadata": {},
   "outputs": [],
   "source": [
    "features = ['Ship_Year', 'Ship_Month', 'Ship_Day', 'Ship_Weekday', 'Ship_Mode', 'Customer_ID', 'Segment', 'City', 'State', 'Region', 'Postal_Code', 'Product_ID', 'Category', 'Sub_Category']\n",
    "target = 'Sales'\n",
    "X = df[features]\n",
    "y = df[target]"
   ]
  },
  {
   "cell_type": "markdown",
   "id": "1ba16e07",
   "metadata": {},
   "source": [
    "## 5. Split the Data into Training and Testing Sets"
   ]
  },
  {
   "cell_type": "code",
   "execution_count": null,
   "id": "ebb08d7a",
   "metadata": {},
   "outputs": [],
   "source": [
    "X_train, X_test, y_train, y_test = train_test_split(X, y, test_size=0.2, random_state=42)"
   ]
  },
  {
   "cell_type": "markdown",
   "id": "3a44f0dd",
   "metadata": {},
   "source": [
    "## 6. Build and Train the Linear Regression Model"
   ]
  },
  {
   "cell_type": "code",
   "execution_count": null,
   "id": "cff4e9be",
   "metadata": {},
   "outputs": [],
   "source": [
    "categorical_features = ['Ship_Mode', 'Customer_ID', 'Segment', 'City', 'State', 'Region', 'Postal_Code', 'Product_ID', 'Category', 'Sub_Category']\n",
    "numerical_features = ['Ship_Year', 'Ship_Month', 'Ship_Day', 'Ship_Weekday']\n",
    "\n",
    "categorical_transformer = OneHotEncoder(handle_unknown='ignore')\n",
    "\n",
    "preprocessor = ColumnTransformer(\n",
    "    transformers=[\n",
    "        ('cat', categorical_transformer, categorical_features)\n",
    "    ],\n",
    "    remainder='passthrough'\n",
    ")\n",
    "\n",
    "model = Pipeline(steps=[('preprocessor', preprocessor),\n",
    "                        ('regressor', LinearRegression())])\n",
    "\n",
    "model.fit(X_train, y_train)"
   ]
  },
  {
   "cell_type": "markdown",
   "id": "4a3d13c6",
   "metadata": {},
   "source": [
    "## 7. Evaluate the Model"
   ]
  },
  {
   "cell_type": "code",
   "execution_count": null,
   "id": "bbc87f0b",
   "metadata": {},
   "outputs": [],
   "source": [
    "y_pred = model.predict(X_test)\n",
    "mse = mean_squared_error(y_test, y_pred)\n",
    "mae = mean_absolute_error(y_test, y_pred)\n",
    "r2 = r2_score(y_test, y_pred)\n",
    "\n",
    "print(f\"Mean Squared Error (MSE): {mse:.2f}\")\n",
    "print(f\"Mean Absolute Error (MAE): {mae:.2f}\")\n",
    "print(f\"R-squared (R²): {r2:.2f}\")"
   ]
  },
  {
   "cell_type": "markdown",
   "id": "e25435a1",
   "metadata": {},
   "source": [
    "## 8. Conclusion"
   ]
  },
  {
   "cell_type": "markdown",
   "id": "f3be96da",
   "metadata": {},
   "source": [
    "In this notebook, we successfully built and evaluated a linear regression model to predict sales. The model's performance was assessed using metrics such as Mean Squared Error (MSE), Mean Absolute Error (MAE), and R-squared (R²)."
   ]
  }
 ],
 "metadata": {
  "language_info": {
   "name": "python"
  }
 },
 "nbformat": 4,
 "nbformat_minor": 5
}
