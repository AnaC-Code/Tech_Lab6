{
 "cells": [
  {
   "cell_type": "code",
   "execution_count": 1,
   "metadata": {},
   "outputs": [
    {
     "name": "stdout",
     "output_type": "stream",
     "text": [
      "Mean Squared Error (MSE): 421869.17\n",
      "Mean Absolute Error (MAE): 251.70\n",
      "R-squared (R²): 0.14\n"
     ]
    }
   ],
   "source": [
    "import pandas as pd\n",
    "from sklearn.model_selection import train_test_split\n",
    "from sklearn.preprocessing import StandardScaler, OneHotEncoder\n",
    "from sklearn.compose import ColumnTransformer\n",
    "from sklearn.pipeline import Pipeline\n",
    "from sklearn.linear_model import LinearRegression\n",
    "from sklearn.metrics import mean_squared_error, mean_absolute_error, r2_score\n",
    "from sklearn.impute import SimpleImputer\n",
    "\n",
    "# Load the CSV file\n",
    "file_path = r'C:\\Users\\User\\Documents\\GitHub\\Tech_Lab6\\17072024_sales_data\\Clean_Data.csv'\n",
    "df = pd.read_csv(file_path, encoding='ISO-8859-1')\n",
    "\n",
    "# Convert Ship_Date to datetime and extract features\n",
    "df['Ship_Date'] = pd.to_datetime(df['Ship_Date'], errors='coerce')\n",
    "df['Ship_Year'] = df['Ship_Date'].dt.year\n",
    "df['Ship_Month'] = df['Ship_Date'].dt.month\n",
    "df['Ship_Day'] = df['Ship_Date'].dt.day\n",
    "df['Ship_Weekday'] = df['Ship_Date'].dt.weekday\n",
    "\n",
    "# Drop the original Ship_Date column\n",
    "df = df.drop(columns=['Ship_Date'])\n",
    "\n",
    "# Updated list of features\n",
    "features = ['Ship_Year', 'Ship_Month', 'Ship_Day', 'Ship_Weekday', 'Ship_Mode', 'Customer_ID', 'Segment', 'City', 'State', 'Region', 'Postal_Code', 'Product_ID', 'Category', 'Sub_Category']\n",
    "target = 'Sales'\n",
    "\n",
    "# Drop rows with missing values in the selected columns\n",
    "df = df.dropna(subset=features + [target])\n",
    "\n",
    "# Define preprocessing for numerical and categorical features\n",
    "preprocessor = ColumnTransformer(\n",
    "    transformers=[\n",
    "        ('num', SimpleImputer(strategy='mean'), ['Ship_Year', 'Ship_Month', 'Ship_Day', 'Ship_Weekday', 'Postal_Code']),\n",
    "        ('cat', OneHotEncoder(handle_unknown='ignore'), ['Ship_Mode', 'Customer_ID', 'Segment', 'City', 'State', 'Region', 'Product_ID', 'Category', 'Sub_Category'])\n",
    "    ])\n",
    "\n",
    "# Create a pipeline with preprocessing and linear regression\n",
    "model = Pipeline(steps=[\n",
    "    ('preprocessor', preprocessor),\n",
    "    ('regressor', LinearRegression())\n",
    "])\n",
    "\n",
    "# Define features (X) and target (y)\n",
    "X = df[features]\n",
    "y = df[target]  # Use the continuous Sales variable\n",
    "\n",
    "# Split the dataset\n",
    "X_train, X_test, y_train, y_test = train_test_split(X, y, test_size=0.2, random_state=42)\n",
    "\n",
    "# Train the model\n",
    "model.fit(X_train, y_train)\n",
    "\n",
    "# Make predictions\n",
    "y_pred = model.predict(X_test)\n",
    "\n",
    "# Evaluate the model\n",
    "mse = mean_squared_error(y_test, y_pred)\n",
    "mae = mean_absolute_error(y_test, y_pred)\n",
    "r2 = r2_score(y_test, y_pred)\n",
    "\n",
    "print(f\"Mean Squared Error (MSE): {mse:.2f}\")\n",
    "print(f\"Mean Absolute Error (MAE): {mae:.2f}\")\n",
    "print(f\"R-squared (R²): {r2:.2f}\")\n",
    "\n",
    "\n"
   ]
  }
 ],
 "metadata": {
  "kernelspec": {
   "display_name": ".venv",
   "language": "python",
   "name": "python3"
  },
  "language_info": {
   "codemirror_mode": {
    "name": "ipython",
    "version": 3
   },
   "file_extension": ".py",
   "mimetype": "text/x-python",
   "name": "python",
   "nbconvert_exporter": "python",
   "pygments_lexer": "ipython3",
   "version": "3.11.9"
  }
 },
 "nbformat": 4,
 "nbformat_minor": 2
}
