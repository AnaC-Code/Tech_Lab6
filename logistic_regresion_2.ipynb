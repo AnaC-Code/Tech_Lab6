{
 "cells": [
  {
   "cell_type": "code",
   "execution_count": 6,
   "metadata": {},
   "outputs": [
    {
     "name": "stdout",
     "output_type": "stream",
     "text": [
      "Accuracy: 0.59\n",
      "Confusion Matrix:\n",
      "[[   0    0    0  313]\n",
      " [   0    0    0  110]\n",
      " [   0    0    0  370]\n",
      " [   0    0    0 1165]]\n",
      "Classification Report:\n",
      "              precision    recall  f1-score   support\n",
      "\n",
      "           0       0.00      0.00      0.00       313\n",
      "           1       0.00      0.00      0.00       110\n",
      "           2       0.00      0.00      0.00       370\n",
      "           3       0.59      1.00      0.75      1165\n",
      "\n",
      "    accuracy                           0.59      1958\n",
      "   macro avg       0.15      0.25      0.19      1958\n",
      "weighted avg       0.35      0.59      0.44      1958\n",
      "\n"
     ]
    },
    {
     "name": "stderr",
     "output_type": "stream",
     "text": [
      "c:\\Users\\User\\Documents\\GitHub\\Tech_Lab6\\.venv\\Lib\\site-packages\\sklearn\\metrics\\_classification.py:1531: UndefinedMetricWarning: Precision is ill-defined and being set to 0.0 in labels with no predicted samples. Use `zero_division` parameter to control this behavior.\n",
      "  _warn_prf(average, modifier, f\"{metric.capitalize()} is\", len(result))\n",
      "c:\\Users\\User\\Documents\\GitHub\\Tech_Lab6\\.venv\\Lib\\site-packages\\sklearn\\metrics\\_classification.py:1531: UndefinedMetricWarning: Precision is ill-defined and being set to 0.0 in labels with no predicted samples. Use `zero_division` parameter to control this behavior.\n",
      "  _warn_prf(average, modifier, f\"{metric.capitalize()} is\", len(result))\n",
      "c:\\Users\\User\\Documents\\GitHub\\Tech_Lab6\\.venv\\Lib\\site-packages\\sklearn\\metrics\\_classification.py:1531: UndefinedMetricWarning: Precision is ill-defined and being set to 0.0 in labels with no predicted samples. Use `zero_division` parameter to control this behavior.\n",
      "  _warn_prf(average, modifier, f\"{metric.capitalize()} is\", len(result))\n"
     ]
    }
   ],
   "source": [
    "import pandas as pd\n",
    "from sklearn.model_selection import train_test_split\n",
    "from sklearn.preprocessing import StandardScaler, OneHotEncoder\n",
    "from sklearn.compose import ColumnTransformer\n",
    "from sklearn.pipeline import Pipeline\n",
    "from sklearn.linear_model import LogisticRegression\n",
    "from sklearn.metrics import accuracy_score, confusion_matrix, classification_report\n",
    "\n",
    "# Load the CSV file\n",
    "file_path = r'C:\\Users\\User\\Documents\\GitHub\\Tech_Lab6\\17072024_sales_data\\Clean_Data.csv'\n",
    "df = pd.read_csv(file_path, encoding='ISO-8859-1')\n",
    "\n",
    "# Define features and target\n",
    "features = ['Sales', 'Region']  # Example features\n",
    "target = 'Ship_Mode'  # Example target\n",
    "\n",
    "# Ensure the selected columns exist\n",
    "if not all(col in df.columns for col in features + [target]):\n",
    "    missing_cols = [col for col in features + [target] if col not in df.columns]\n",
    "    print(f\"Columns not found in the data: {missing_cols}\")\n",
    "else:\n",
    "    # Drop rows with missing values in the selected columns\n",
    "    df = df.dropna(subset=features + [target])\n",
    "\n",
    "    # Encode the target variable if it's categorical\n",
    "    if df[target].dtype == 'object':\n",
    "        label_encoder = LabelEncoder()\n",
    "        df[target] = label_encoder.fit_transform(df[target])\n",
    "\n",
    "    # Define the preprocessing for numerical and categorical features\n",
    "    preprocessor = ColumnTransformer(\n",
    "        transformers=[\n",
    "            ('num', StandardScaler(), ['Sales']),  # Scale numerical features\n",
    "            ('cat', OneHotEncoder(), ['Region'])   # One-hot encode categorical features\n",
    "        ])\n",
    "\n",
    "    # Create a pipeline with preprocessing and logistic regression\n",
    "    model = Pipeline(steps=[\n",
    "        ('preprocessor', preprocessor),\n",
    "        ('classifier', LogisticRegression())\n",
    "    ])\n",
    "\n",
    "    # Define features (X) and target (y)\n",
    "    X = df[features]\n",
    "    y = df[target]\n",
    "\n",
    "    # Split the dataset\n",
    "    X_train, X_test, y_train, y_test = train_test_split(X, y, test_size=0.2, random_state=42)\n",
    "\n",
    "    # Train the model\n",
    "    model.fit(X_train, y_train)\n",
    "\n",
    "    # Make predictions\n",
    "    y_pred = model.predict(X_test)\n",
    "\n",
    "    # Evaluate the model\n",
    "    accuracy = accuracy_score(y_test, y_pred)\n",
    "    conf_matrix = confusion_matrix(y_test, y_pred)\n",
    "    class_report = classification_report(y_test, y_pred)\n",
    "\n",
    "    print(f\"Accuracy: {accuracy:.2f}\")\n",
    "    print(\"Confusion Matrix:\")\n",
    "    print(conf_matrix)\n",
    "    print(\"Classification Report:\")\n",
    "    print(class_report)\n",
    "\n",
    "\n"
   ]
  }
 ],
 "metadata": {
  "kernelspec": {
   "display_name": ".venv",
   "language": "python",
   "name": "python3"
  },
  "language_info": {
   "codemirror_mode": {
    "name": "ipython",
    "version": 3
   },
   "file_extension": ".py",
   "mimetype": "text/x-python",
   "name": "python",
   "nbconvert_exporter": "python",
   "pygments_lexer": "ipython3",
   "version": "3.11.9"
  }
 },
 "nbformat": 4,
 "nbformat_minor": 2
}
