{
 "cells": [
  {
   "cell_type": "markdown",
   "id": "2cb0f770",
   "metadata": {},
   "source": [
    "# Sales Prediction using Linear Regression"
   ]
  },
  {
   "cell_type": "markdown",
   "id": "2d6b2403",
   "metadata": {},
   "source": [
    "This notebook demonstrates how to predict sales using a linear regression model based on features extracted from a dataset."
   ]
  },
  {
   "cell_type": "markdown",
   "id": "3d65ee3e",
   "metadata": {},
   "source": [
    "## 1. Import Libraries"
   ]
  },
  {
   "cell_type": "code",
   "execution_count": null,
   "id": "83493b33",
   "metadata": {},
   "outputs": [],
   "source": [
    "import pandas as pd\n",
    "from sklearn.model_selection import train_test_split\n",
    "from sklearn.linear_model import LinearRegression\n",
    "from sklearn.preprocessing import OneHotEncoder, StandardScaler\n",
    "from sklearn.compose import ColumnTransformer\n",
    "from sklearn.pipeline import Pipeline\n",
    "from sklearn.metrics import mean_squared_error, mean_absolute_error, r2_score"
   ]
  },
  {
   "cell_type": "markdown",
   "id": "a6ae3bb3",
   "metadata": {},
   "source": [
    "## 2. Load and Prepare the Dataset"
   ]
  },
  {
   "cell_type": "code",
   "execution_count": null,
   "id": "a9ec3c0b",
   "metadata": {},
   "outputs": [],
   "source": [
    "file_path = '/mnt/data/Enriched_Clean_Data.csv'\n",
    "data = pd.read_csv(file_path, sep=';', thousands='.')\n",
    "data['Sales'] = pd.to_numeric(data['Sales'], errors='coerce')\n",
    "data = data.dropna(subset=['Sales'])\n",
    "threshold = 1000\n",
    "data['HighSales'] = (data['Sales'] > threshold).astype(int)\n",
    "features = [\n",
    "    'Ship_Date', 'Ship_Mode', 'Customer_ID', 'Segment', 'City', 'State', 'Region', \n",
    "    'Postal_Code', 'Product_ID', 'Category', 'Sub_Category', 'shipping_costs', \n",
    "    'number_of_products_in_warehouse', 'production_costs_per_unit'\n",
    "]\n",
    "X = data[features]\n",
    "y = data['HighSales']"
   ]
  },
  {
   "cell_type": "markdown",
   "id": "57980e02",
   "metadata": {},
   "source": [
    "## 3. Preprocess the Data"
   ]
  },
  {
   "cell_type": "code",
   "execution_count": null,
   "id": "b044a82c",
   "metadata": {},
   "outputs": [],
   "source": [
    "categorical_features = [\n",
    "    'Ship_Mode', 'Segment', 'City', 'State', 'Region', 'Category', 'Sub_Category'\n",
    "]\n",
    "numerical_features = [\n",
    "    'shipping_costs', 'number_of_products_in_warehouse', 'production_costs_per_unit'\n",
    "]\n",
    "\n",
    "preprocessor = ColumnTransformer(\n",
    "    transformers=[\n",
    "        ('cat', OneHotEncoder(handle_unknown='ignore'), categorical_features),\n",
    "        ('num', StandardScaler(), numerical_features)\n",
    "    ])"
   ]
  },
  {
   "cell_type": "markdown",
   "id": "51f10757",
   "metadata": {},
   "source": [
    "## 4. Train the Linear Regression Model"
   ]
  },
  {
   "cell_type": "code",
   "execution_count": null,
   "id": "593d67db",
   "metadata": {},
   "outputs": [],
   "source": [
    "X_train, X_test, y_train, y_test = train_test_split(X, y, test_size=0.2, random_state=42)\n",
    "\n",
    "linear_model = Pipeline(steps=[('preprocessor', preprocessor),\n",
    "                               ('regressor', LinearRegression())])\n",
    "\n",
    "linear_model.fit(X_train, y_train)"
   ]
  },
  {
   "cell_type": "markdown",
   "id": "75f704c1",
   "metadata": {},
   "source": [
    "## 5. Evaluate the Model"
   ]
  },
  {
   "cell_type": "code",
   "execution_count": null,
   "id": "a8a3a906",
   "metadata": {},
   "outputs": [],
   "source": [
    "y_pred_linear = linear_model.predict(X_test)\n",
    "\n",
    "mse_linear = mean_squared_error(y_test, y_pred_linear)\n",
    "mae_linear = mean_absolute_error(y_test, y_pred_linear)\n",
    "r2_linear = r2_score(y_test, y_pred_linear)\n",
    "\n",
    "print(f\"Mean Squared Error (MSE): {mse_linear:.4f}\")\n",
    "print(f\"Mean Absolute Error (MAE): {mae_linear:.4f}\")\n",
    "print(f\"R-squared (R²): {r2_linear:.4f}\")"
   ]
  },
  {
   "cell_type": "markdown",
   "id": "475781d1",
   "metadata": {},
   "source": [
    "## 6. Conclusion"
   ]
  },
  {
   "cell_type": "markdown",
   "id": "fbbd2cb6",
   "metadata": {},
   "source": [
    "In this notebook, we built and evaluated a linear regression model to predict sales. The model's performance was assessed using metrics such as Mean Squared Error (MSE), Mean Absolute Error (MAE), and R-squared (R²)."
   ]
  }
 ],
 "metadata": {},
 "nbformat": 4,
 "nbformat_minor": 5
}
