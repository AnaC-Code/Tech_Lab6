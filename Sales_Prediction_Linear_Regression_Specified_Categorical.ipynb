{
 "cells": [
  {
   "cell_type": "markdown",
   "id": "397e5b38",
   "metadata": {},
   "source": [
    "# Sales Prediction using Linear Regression with Specified Categorical Features"
   ]
  },
  {
   "cell_type": "markdown",
   "id": "72cb3dd6",
   "metadata": {},
   "source": [
    "This notebook demonstrates the steps to build a linear regression model to predict sales using specified categorical features."
   ]
  },
  {
   "cell_type": "code",
   "execution_count": null,
   "id": "43d30c7d",
   "metadata": {},
   "outputs": [],
   "source": [
    "import pandas as pd\n",
    "from sklearn.model_selection import train_test_split\n",
    "from sklearn.linear_model import LinearRegression\n",
    "from sklearn.metrics import mean_absolute_error, mean_squared_error, r2_score\n",
    "from sklearn.preprocessing import LabelEncoder\n",
    "import numpy as np"
   ]
  },
  {
   "cell_type": "markdown",
   "id": "f4361c09",
   "metadata": {},
   "source": [
    "## Load the dataset"
   ]
  },
  {
   "cell_type": "code",
   "execution_count": null,
   "id": "9393c53f",
   "metadata": {},
   "outputs": [],
   "source": [
    "# Load the dataset\n",
    "file_path = '/mnt/data/Clean_Data.csv'\n",
    "data = pd.read_csv(file_path)\n",
    "data.head()"
   ]
  },
  {
   "cell_type": "markdown",
   "id": "59c6a6c8",
   "metadata": {},
   "source": [
    "## Data Preprocessing"
   ]
  },
  {
   "cell_type": "code",
   "execution_count": null,
   "id": "8f350924",
   "metadata": {},
   "outputs": [],
   "source": [
    "# Convert 'Ship_Date' to datetime and extract the month\n",
    "data['Ship_Date'] = pd.to_datetime(data['Ship_Date'])\n",
    "data['Ship_Month'] = data['Ship_Date'].dt.month\n",
    "data['Ship_Month'] = data['Ship_Month'].astype('category')"
   ]
  },
  {
   "cell_type": "code",
   "execution_count": null,
   "id": "ecc2b490",
   "metadata": {},
   "outputs": [],
   "source": [
    "# Encode all categorical variables\n",
    "categorical_columns = ['Ship_Month', 'Segment', 'State', 'Category', 'Sub_Category', 'City', 'Region']\n",
    "\n",
    "label_encoders = {}\n",
    "for column in categorical_columns:\n",
    "    le = LabelEncoder()\n",
    "    data[column] = le.fit_transform(data[column])\n",
    "    label_encoders[column] = le\n",
    "\n",
    "data.head()"
   ]
  },
  {
   "cell_type": "markdown",
   "id": "01e1367f",
   "metadata": {},
   "source": [
    "## Feature Selection"
   ]
  },
  {
   "cell_type": "code",
   "execution_count": null,
   "id": "4ed7a308",
   "metadata": {},
   "outputs": [],
   "source": [
    "# Select the final features\n",
    "final_features = ['Ship_Month', 'Segment', 'State', 'Category', 'Sub_Category', 'City', 'Region']\n",
    "\n",
    "X_final_specified = data[final_features]\n",
    "y_final_specified = data['Sales']\n",
    "\n",
    "X_final_specified.head()"
   ]
  },
  {
   "cell_type": "markdown",
   "id": "8484ead0",
   "metadata": {},
   "source": [
    "## Splitting the Data"
   ]
  },
  {
   "cell_type": "code",
   "execution_count": null,
   "id": "369088de",
   "metadata": {},
   "outputs": [],
   "source": [
    "# Split the data into training and testing sets\n",
    "X_train_final_specified, X_test_final_specified, y_train_final_specified, y_test_final_specified = train_test_split(X_final_specified, y_final_specified, test_size=0.2, random_state=42)"
   ]
  },
  {
   "cell_type": "markdown",
   "id": "61561bdc",
   "metadata": {},
   "source": [
    "## Model Training"
   ]
  },
  {
   "cell_type": "code",
   "execution_count": null,
   "id": "3d484ded",
   "metadata": {},
   "outputs": [],
   "source": [
    "# Initialize and train the Linear Regression model\n",
    "model_final_specified = LinearRegression()\n",
    "model_final_specified.fit(X_train_final_specified, y_train_final_specified)"
   ]
  },
  {
   "cell_type": "markdown",
   "id": "d26e19c8",
   "metadata": {},
   "source": [
    "## Making Predictions and Evaluating the Model"
   ]
  },
  {
   "cell_type": "code",
   "execution_count": null,
   "id": "56d3cf91",
   "metadata": {},
   "outputs": [],
   "source": [
    "# Make predictions\n",
    "y_pred_final_specified = model_final_specified.predict(X_test_final_specified)\n",
    "\n",
    "# Evaluate the model\n",
    "mae_final_specified = mean_absolute_error(y_test_final_specified, y_pred_final_specified)\n",
    "mse_final_specified = mean_squared_error(y_test_final_specified, y_pred_final_specified)\n",
    "rmse_final_specified = np.sqrt(mse_final_specified)\n",
    "r2_final_specified = r2_score(y_test_final_specified, y_pred_final_specified)\n",
    "\n",
    "final_specified_evaluation_results = {\n",
    "    \"Mean Absolute Error\": mae_final_specified,\n",
    "    \"Mean Squared Error\": mse_final_specified,\n",
    "    \"Root Mean Squared Error\": rmse_final_specified,\n",
    "    \"R^2 Score\": r2_final_specified\n",
    "}\n",
    "\n",
    "final_specified_evaluation_results"
   ]
  },
  {
   "cell_type": "markdown",
   "id": "5fd864a0",
   "metadata": {},
   "source": [
    "## Interpretation of the R² Score\n",
    "\n",
    "The R² score reflects how well the model explains the variance in the sales data based on the specified categorical features. A low R² score suggests that the model's predictions are not highly accurate, and further improvements or alternative modeling approaches may be necessary."
   ]
  }
 ],
 "metadata": {},
 "nbformat": 4,
 "nbformat_minor": 5
}
